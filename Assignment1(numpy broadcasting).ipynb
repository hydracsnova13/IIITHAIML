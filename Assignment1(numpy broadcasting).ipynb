{
  "nbformat": 4,
  "nbformat_minor": 0,
  "metadata": {
    "colab": {
      "provenance": [],
      "authorship_tag": "ABX9TyMbe6MryMulEb7hmp1VqP94",
      "include_colab_link": true
    },
    "kernelspec": {
      "name": "python3",
      "display_name": "Python 3"
    },
    "language_info": {
      "name": "python"
    }
  },
  "cells": [
    {
      "cell_type": "markdown",
      "metadata": {
        "id": "view-in-github",
        "colab_type": "text"
      },
      "source": [
        "<a href=\"https://colab.research.google.com/github/hydracsnova13/IIITHAIML/blob/main/Assignment1(numpy%20broadcasting).ipynb\" target=\"_parent\"><img src=\"https://colab.research.google.com/assets/colab-badge.svg\" alt=\"Open In Colab\"/></a>"
      ]
    },
    {
      "cell_type": "markdown",
      "source": [
        "**Exercise: Learn what is numpy broadcasting, write 3 unique kinds and examples of numpy broadcasting in a google colab notebook and keep it ready before next tutorial.**"
      ],
      "metadata": {
        "id": "vMnujA6tb-Zr"
      }
    },
    {
      "cell_type": "code",
      "execution_count": 4,
      "metadata": {
        "id": "8z1LhK7glGck"
      },
      "outputs": [],
      "source": [
        "import numpy as np"
      ]
    },
    {
      "cell_type": "code",
      "source": [
        "a=np.array([2,4])\n",
        "b=np.array([[2,4],[2,4]])\n",
        "print(a+b)"
      ],
      "metadata": {
        "colab": {
          "base_uri": "https://localhost:8080/"
        },
        "id": "m2h6vsu0llBG",
        "outputId": "1bb46c21-18cc-4e26-8059-9565207698ae"
      },
      "execution_count": 10,
      "outputs": [
        {
          "output_type": "stream",
          "name": "stdout",
          "text": [
            "[[4 8]\n",
            " [4 8]]\n"
          ]
        }
      ]
    },
    {
      "cell_type": "code",
      "source": [
        "a.shape"
      ],
      "metadata": {
        "colab": {
          "base_uri": "https://localhost:8080/"
        },
        "id": "vVMO9R2UH5vX",
        "outputId": "98e1663c-6563-41ec-c0d1-460331896436"
      },
      "execution_count": 7,
      "outputs": [
        {
          "output_type": "execute_result",
          "data": {
            "text/plain": [
              "(2,)"
            ]
          },
          "metadata": {},
          "execution_count": 7
        }
      ]
    },
    {
      "cell_type": "code",
      "source": [
        "b.shape"
      ],
      "metadata": {
        "colab": {
          "base_uri": "https://localhost:8080/"
        },
        "id": "3CbWZwmTIcLl",
        "outputId": "d25af18e-ede8-4758-e9f8-948d5891ff42"
      },
      "execution_count": 8,
      "outputs": [
        {
          "output_type": "execute_result",
          "data": {
            "text/plain": [
              "(2, 2)"
            ]
          },
          "metadata": {},
          "execution_count": 8
        }
      ]
    },
    {
      "cell_type": "markdown",
      "source": [
        "in the above we can see that the array b got stretched to fit the array a (that array a got broadcasted on b)"
      ],
      "metadata": {
        "id": "DBtsghhTo_bx"
      }
    },
    {
      "cell_type": "markdown",
      "source": [
        "**RULES FOR BROADCASTING**\n",
        "\n",
        "-> If the two arrays differ in their number of dimensions, the shape of the one with fewer dimention is padded with the ones on its leading side(left side).\n",
        "\n",
        "-> If the shape of the two arrays does not match in any dimentions the array with the sape equal to 1 in that dimention is stretched to match the other shape.\n",
        "\n",
        "-> If in any dimension the sizes disagree and neither equal to 1,an error is raised."
      ],
      "metadata": {
        "id": "7Jvo1MbypxGJ"
      }
    },
    {
      "cell_type": "markdown",
      "source": [
        "***ASSIGNMENT***"
      ],
      "metadata": {
        "id": "NtjRq0lnbX2O"
      }
    },
    {
      "cell_type": "code",
      "source": [
        "#array a of (3,2)\n",
        "a=np.array([[1,2],[3,4],[5,6]])\n",
        "a.shape"
      ],
      "metadata": {
        "colab": {
          "base_uri": "https://localhost:8080/"
        },
        "id": "k5ze_Ryibb6M",
        "outputId": "42863299-ecfb-40f4-b299-13aa77cb6778"
      },
      "execution_count": 12,
      "outputs": [
        {
          "output_type": "execute_result",
          "data": {
            "text/plain": [
              "(3, 2)"
            ]
          },
          "metadata": {},
          "execution_count": 12
        }
      ]
    },
    {
      "cell_type": "code",
      "source": [
        "#array b of (3,)\n",
        "b=np.array([1,2,3])\n",
        "b.shape"
      ],
      "metadata": {
        "colab": {
          "base_uri": "https://localhost:8080/"
        },
        "id": "kXG42PZTfSiz",
        "outputId": "0bc6b021-f51d-410a-e05a-0e6c0102ee66"
      },
      "execution_count": 13,
      "outputs": [
        {
          "output_type": "execute_result",
          "data": {
            "text/plain": [
              "(3,)"
            ]
          },
          "metadata": {},
          "execution_count": 13
        }
      ]
    },
    {
      "cell_type": "code",
      "source": [
        "#array c of (2,)\n",
        "c=np.array([10,20])\n",
        "c.shape"
      ],
      "metadata": {
        "colab": {
          "base_uri": "https://localhost:8080/"
        },
        "id": "zT209Uf0f4j9",
        "outputId": "9ef613b8-a0f1-4dee-cedb-bf65ffe3ccfd"
      },
      "execution_count": 16,
      "outputs": [
        {
          "output_type": "execute_result",
          "data": {
            "text/plain": [
              "(2,)"
            ]
          },
          "metadata": {},
          "execution_count": 16
        }
      ]
    },
    {
      "cell_type": "code",
      "source": [
        "a+b"
      ],
      "metadata": {
        "colab": {
          "base_uri": "https://localhost:8080/",
          "height": 176
        },
        "id": "lvLv14gRfreK",
        "outputId": "227ae22e-fe1a-400e-a6d7-a7a7b1724e38"
      },
      "execution_count": 14,
      "outputs": [
        {
          "output_type": "error",
          "ename": "ValueError",
          "evalue": "ignored",
          "traceback": [
            "\u001b[0;31m---------------------------------------------------------------------------\u001b[0m",
            "\u001b[0;31mValueError\u001b[0m                                Traceback (most recent call last)",
            "\u001b[0;32m<ipython-input-14-ca730b97bf8a>\u001b[0m in \u001b[0;36m<cell line: 1>\u001b[0;34m()\u001b[0m\n\u001b[0;32m----> 1\u001b[0;31m \u001b[0ma\u001b[0m\u001b[0;34m+\u001b[0m\u001b[0mb\u001b[0m\u001b[0;34m\u001b[0m\u001b[0;34m\u001b[0m\u001b[0m\n\u001b[0m",
            "\u001b[0;31mValueError\u001b[0m: operands could not be broadcast together with shapes (3,2) (3,) "
          ]
        }
      ]
    },
    {
      "cell_type": "code",
      "source": [
        "b+c"
      ],
      "metadata": {
        "colab": {
          "base_uri": "https://localhost:8080/",
          "height": 176
        },
        "id": "hH9tMYP5f210",
        "outputId": "c083997a-973e-4f20-fd65-15fac568b5d8"
      },
      "execution_count": 17,
      "outputs": [
        {
          "output_type": "error",
          "ename": "ValueError",
          "evalue": "ignored",
          "traceback": [
            "\u001b[0;31m---------------------------------------------------------------------------\u001b[0m",
            "\u001b[0;31mValueError\u001b[0m                                Traceback (most recent call last)",
            "\u001b[0;32m<ipython-input-17-921cdd4e6dfb>\u001b[0m in \u001b[0;36m<cell line: 1>\u001b[0;34m()\u001b[0m\n\u001b[0;32m----> 1\u001b[0;31m \u001b[0mb\u001b[0m\u001b[0;34m+\u001b[0m\u001b[0mc\u001b[0m\u001b[0;34m\u001b[0m\u001b[0;34m\u001b[0m\u001b[0m\n\u001b[0m",
            "\u001b[0;31mValueError\u001b[0m: operands could not be broadcast together with shapes (3,) (2,) "
          ]
        }
      ]
    },
    {
      "cell_type": "code",
      "source": [
        "(a+c).shape"
      ],
      "metadata": {
        "colab": {
          "base_uri": "https://localhost:8080/"
        },
        "id": "3wZb0n-ZgQ_X",
        "outputId": "1087d01e-e82c-433d-ee3f-d8efc030e417"
      },
      "execution_count": 21,
      "outputs": [
        {
          "output_type": "execute_result",
          "data": {
            "text/plain": [
              "(3, 2)"
            ]
          },
          "metadata": {},
          "execution_count": 21
        }
      ]
    },
    {
      "cell_type": "code",
      "source": [
        "a+c"
      ],
      "metadata": {
        "colab": {
          "base_uri": "https://localhost:8080/"
        },
        "id": "81qGnzdZgzjz",
        "outputId": "829972a5-56ee-4d26-eab1-a0cbfa7bf8ee"
      },
      "execution_count": 22,
      "outputs": [
        {
          "output_type": "execute_result",
          "data": {
            "text/plain": [
              "array([[11, 22],\n",
              "       [13, 24],\n",
              "       [15, 26]])"
            ]
          },
          "metadata": {},
          "execution_count": 22
        }
      ]
    },
    {
      "cell_type": "markdown",
      "source": [
        "as we can see in the three cases that :-\n",
        "\n",
        "(3,2)(3,)not broadcasted\n",
        "\n",
        "(3,)(2,)not broadcasted\n",
        "\n",
        "(3,2)(2,)broadcasted as we have one common index and we can extend the rest by adding 1's"
      ],
      "metadata": {
        "id": "_uHZsMgIjwWA"
      }
    }
  ]
}